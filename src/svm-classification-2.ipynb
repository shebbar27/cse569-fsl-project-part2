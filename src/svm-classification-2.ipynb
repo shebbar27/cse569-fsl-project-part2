{
 "cells": [
  {
   "cell_type": "code",
   "execution_count": 8,
   "metadata": {
    "_cell_guid": "b1076dfc-b9ad-4769-8c92-a6c4dae69d19",
    "_uuid": "8f2839f25d086af736a60e9eeb907d3b93b6e0e5",
    "execution": {
     "iopub.execute_input": "2021-11-16T17:17:17.589160Z",
     "iopub.status.busy": "2021-11-16T17:17:17.588721Z",
     "iopub.status.idle": "2021-11-16T17:17:34.115464Z",
     "shell.execute_reply": "2021-11-16T17:17:34.114519Z",
     "shell.execute_reply.started": "2021-11-16T17:17:17.589060Z"
    }
   },
   "outputs": [
    {
     "name": "stdout",
     "output_type": "stream",
     "text": [
      "Defaulting to user installation because normal site-packages is not writeable\n",
      "Requirement already satisfied: libsvm-official in /usr/local/lib/python3.8/dist-packages (3.25.0)\n",
      "Requirement already satisfied: scipy in /usr/local/lib/python3.8/dist-packages (from libsvm-official) (1.7.1)\n",
      "Requirement already satisfied: numpy<1.23.0,>=1.16.5 in /usr/lib/python3/dist-packages (from scipy->libsvm-official) (1.17.4)\n",
      "Note: you may need to restart the kernel to use updated packages.\n"
     ]
    }
   ],
   "source": [
    " pip install -U libsvm-official"
   ]
  },
  {
   "cell_type": "code",
   "execution_count": 9,
   "metadata": {
    "execution": {
     "iopub.execute_input": "2021-11-16T17:17:34.117914Z",
     "iopub.status.busy": "2021-11-16T17:17:34.117668Z",
     "iopub.status.idle": "2021-11-16T17:17:35.018541Z",
     "shell.execute_reply": "2021-11-16T17:17:35.017540Z",
     "shell.execute_reply.started": "2021-11-16T17:17:34.117882Z"
    }
   },
   "outputs": [],
   "source": [
    "from libsvm.svmutil import *\n",
    "import numpy as np\n",
    "import scipy.io\n",
    "\n",
    "# file paths for loading training and testing sample data\n",
    "train_data_file_path = '../data/trainData.mat'\n",
    "test_data_file_path = '../data/testData.mat'"
   ]
  },
  {
   "cell_type": "code",
   "execution_count": 10,
   "metadata": {
    "execution": {
     "iopub.execute_input": "2021-11-16T17:17:35.020528Z",
     "iopub.status.busy": "2021-11-16T17:17:35.020075Z",
     "iopub.status.idle": "2021-11-16T17:17:35.032456Z",
     "shell.execute_reply": "2021-11-16T17:17:35.031470Z",
     "shell.execute_reply.started": "2021-11-16T17:17:35.020480Z"
    }
   },
   "outputs": [],
   "source": [
    "# region Helper methods\n",
    "\n",
    "def load_data_from_file(file_path):\n",
    "    assert isinstance(file_path, str)\n",
    "    data = scipy.io.loadmat(file_path)\n",
    "    y = np.ravel(data['Y'])\n",
    "    x1 = data['X1']\n",
    "    x2 = data['X2']\n",
    "    x3 = data['X3']\n",
    "    return y, [x1, x2, x3]\n",
    "\n",
    "\n",
    "def get_parameter_str(parameters):\n",
    "    assert isinstance(parameters, list)\n",
    "    return \" \".join(parameters)\n",
    "\n",
    "\n",
    "def train_svm_model(y, x, params=''):\n",
    "    assert isinstance(y, np.ndarray)\n",
    "    assert len(y.shape) == 1\n",
    "    assert isinstance(x, np.ndarray)\n",
    "    return svm_train(y, x, params)\n",
    "\n",
    "\n",
    "def predict_svm_test(y, x, m, params=''):\n",
    "    assert isinstance(y, np.ndarray)\n",
    "    assert len(y.shape) == 1\n",
    "    assert isinstance(x, np.ndarray)\n",
    "    assert isinstance(m, svm_model)\n",
    "    return svm_predict(y, x, m, params)\n",
    "\n",
    "\n",
    "# endregion"
   ]
  },
  {
   "cell_type": "code",
   "execution_count": 11,
   "metadata": {
    "execution": {
     "iopub.execute_input": "2021-11-16T17:17:35.034338Z",
     "iopub.status.busy": "2021-11-16T17:17:35.034054Z",
     "iopub.status.idle": "2021-11-16T17:17:35.051463Z",
     "shell.execute_reply": "2021-11-16T17:17:35.050292Z",
     "shell.execute_reply.started": "2021-11-16T17:17:35.034298Z"
    }
   },
   "outputs": [],
   "source": [
    "# region: Methods Defining Steps0\n",
    "\n",
    "def get_accuracy(result):\n",
    "    assert isinstance(result, tuple)\n",
    "    assert isinstance(result[1], tuple)\n",
    "    assert isinstance(result[1][0], float)\n",
    "    return result[1][0]\n",
    "\n",
    "\n",
    "def print_accuracies(x_results, step='Step 0', case='Case 0'):\n",
    "    assert isinstance(x_results, list)\n",
    "    assert all(isinstance(result, tuple) for result in x_results)\n",
    "    print(f\"{step}, {case} Output:\")\n",
    "    for index in range(len(x_results)):\n",
    "        accuracy = get_accuracy(x_results[index])\n",
    "        print(f\"X{index + 1} Feature Test Data Accuracy: {accuracy:0.2f}%\")\n",
    "    print('')\n",
    "\n",
    "\n",
    "def train_and_test_data(y_train, x_trains, y_test, x_tests, train_params='', test_params=''):\n",
    "    assert len(x_trains) == len(x_tests)\n",
    "    assert isinstance(x_trains, list)\n",
    "    assert isinstance(x_tests, list)\n",
    "    x_svm_models = []\n",
    "    x_results = []\n",
    "    for x in x_trains:\n",
    "        x_svm_models.append(train_svm_model(y_train, x, train_params))\n",
    "    for index in range(len(x_tests)):\n",
    "        x_results.append(predict_svm_test(y_test, x_tests[index], x_svm_models[index], test_params))\n",
    "    return x_results\n",
    "\n",
    "\n",
    "def step0_case1(y_train, x_trains, y_test, x_tests):\n",
    "    \"\"\"\n",
    "    Step 0: Classification by individual features\n",
    "    Output: The classification accuracy for the testing set in case (1)\n",
    "    Case 1: For each of the 3 features in the training set, 𝑿𝑘 (1 ≤  𝑘 ≤ 3), train a multi-class linear SVM classifier,\n",
    "    i.e., ℎ𝑘 (𝐱). Get the prediction result of ℎ𝑘 (𝐱) based on the same feature 𝑿𝑘 in the testing set and compare to\n",
    "    𝒀 for computing the classification accuracy\n",
    "    \"\"\"\n",
    "    train_params = get_parameter_str(['-c', '10', '-t', '0', '-q'])\n",
    "    test_params = get_parameter_str(['-q'])\n",
    "    x_results = train_and_test_data(y_train, x_trains, y_test, x_tests, train_params, test_params)\n",
    "    print_accuracies(x_results, 'Step0', 'Case1')\n",
    "    return x_results\n",
    "\n",
    "\n",
    "def step0_case2(y_train, x_trains, y_test, x_tests):\n",
    "    \"\"\"\n",
    "    Step 0: Classification by individual features\n",
    "    Output: The classification accuracy for the testing set in case (2)\n",
    "    Case 2: Based on the SVM classifiers ℎ𝑘 (𝐱), we can also obtain 𝑝𝑘 (𝑤𝑖 |𝐱), the (posterior) probability of sample\n",
    "    𝐱 that it belongs to the 𝑖-th category (𝑤𝑖) according to feature 𝑿𝑘 (1 ≤ 𝑘 ≤ 3). This can be done by using the\n",
    "    parameter ‘-b 1’ option in training and testing (check http://www.csie.ntu.edu.tw/~cjlin/libsvm/ for more details).\n",
    "    Train the SVM classifiers with this option and report the classification accuracies on the testing set based on the\n",
    "    3 features respectively.\n",
    "    \"\"\"\n",
    "    train_params = get_parameter_str(['-c', '10', '-t', '0', '-b', '1', '-q'])\n",
    "    test_params = get_parameter_str(['-b', '1', '-q'])\n",
    "    x_results = train_and_test_data(y_train, x_trains, y_test, x_tests, train_params, test_params)\n",
    "    print_accuracies(x_results, 'Step0', 'Case2')\n",
    "    return x_results\n",
    "\n",
    "\n",
    "# endregion"
   ]
  },
  {
   "cell_type": "code",
   "execution_count": 12,
   "metadata": {
    "execution": {
     "iopub.execute_input": "2021-11-16T17:17:35.054978Z",
     "iopub.status.busy": "2021-11-16T17:17:35.054580Z",
     "iopub.status.idle": "2021-11-16T17:17:35.071227Z",
     "shell.execute_reply": "2021-11-16T17:17:35.070267Z",
     "shell.execute_reply.started": "2021-11-16T17:17:35.054893Z"
    }
   },
   "outputs": [],
   "source": [
    "# region: methods Defining Step1\n",
    "\n",
    "def get_probabilities(result):\n",
    "    assert isinstance(result, tuple)\n",
    "    assert isinstance(result[2], list)\n",
    "    return np.array(result[2])\n",
    "\n",
    "\n",
    "def calculate_avg_probabilities(x_results):\n",
    "    assert isinstance(x_results, list)\n",
    "    assert all(isinstance(result, tuple) for result in x_results)\n",
    "    x_predictions = []\n",
    "    for result in x_results:\n",
    "        x_predictions.append(get_probabilities(result))\n",
    "    assert all(isinstance(x_prediction, np.ndarray) for x_prediction in x_predictions)\n",
    "    return np.mean(x_predictions, axis=0)\n",
    "\n",
    "\n",
    "def get_class_prediction(average_x_predictions):\n",
    "    assert isinstance(average_x_predictions, np.ndarray)\n",
    "    return average_x_predictions.argmax(axis=1) + 1\n",
    "\n",
    "\n",
    "def calculate_accuracy(actual_y, predicted_y):\n",
    "    assert isinstance(actual_y, np.ndarray)\n",
    "    assert len(actual_y.shape) == 1\n",
    "    assert isinstance(predicted_y, np.ndarray)\n",
    "    assert len(predicted_y.shape) == 1\n",
    "    assert len(actual_y) == len(predicted_y)\n",
    "    return (np.count_nonzero(actual_y == predicted_y) / len(actual_y)) * 100\n",
    "\n",
    "\n",
    "def step1(y_test, x_results):\n",
    "    \"\"\"\n",
    "    Step 1: Feature combination by fusion of classifiers\n",
    "    Output: The classification accuracy in the testing set and compare it to that of (2) in Step 0.\n",
    "    Instructions: Directly combine the 3 SVM classifiers with probability output i.e., 𝑝 𝑘 (𝑤𝑖 |𝐱) (1 ≤ 𝑘 ≤ 3), in (2)\n",
    "    of Step 0. Combine the 3 classifiers by probability fusion as 𝑝(𝑤𝑖 |𝐱) = ∑𝑘 𝑝𝑘 (𝑤𝑖 |𝐱) ⁄ 3. The final recognition\n",
    "    result is 𝑤 𝑖∗ = argmax 𝑖 𝑝(𝑤𝑖 |𝐱).\n",
    "    \"\"\"\n",
    "    x_avg_probabilities = calculate_avg_probabilities(x_results)\n",
    "    predicted_y = get_class_prediction(x_avg_probabilities)\n",
    "    x_avg_s1_accuracy = calculate_accuracy(y_test, predicted_y)\n",
    "    print(\"Step 1 Output:\")\n",
    "    print(f\"Test Data Accuracy using Feature Combination by Fusion of Classifiers: {x_avg_s1_accuracy:.2f}%\\n\")\n",
    "\n",
    "\n",
    "# endregion"
   ]
  },
  {
   "cell_type": "code",
   "execution_count": 13,
   "metadata": {
    "execution": {
     "iopub.execute_input": "2021-11-16T17:17:35.073057Z",
     "iopub.status.busy": "2021-11-16T17:17:35.072818Z",
     "iopub.status.idle": "2021-11-16T17:17:35.089668Z",
     "shell.execute_reply": "2021-11-16T17:17:35.088822Z",
     "shell.execute_reply.started": "2021-11-16T17:17:35.073028Z"
    }
   },
   "outputs": [],
   "source": [
    "# region Methods Defining Step2\n",
    "\n",
    "def get_concatenated_x(x_vector):\n",
    "    assert isinstance(x_vector, tuple)\n",
    "    all(isinstance(x_i, np.ndarray) for x_i in x_vector)\n",
    "    return np.concatenate(x_vector, axis=1)\n",
    "\n",
    "\n",
    "def step2(y_train, y_test, x_trains, x_tests, x_results):\n",
    "    \"\"\"\n",
    "    Step 2: Feature combination by simple concatenation.\n",
    "    Output: The classification accuracy in the testing set and compare it to that of (1) in Step 0.\n",
    "    Instructions: Directly concatenate the 3 features 𝐗𝑘, 1 ≤ 𝑘 ≤ 3 to form a single feature, i.e.\n",
    "    𝐗 = [𝐗1 , . . . , 𝐗𝐾 ]; train a linear SVM classifier based on 𝐗 and obtain the classification accuracy for the\n",
    "    testing set.\n",
    "    \"\"\"\n",
    "    concatenated_x_train = get_concatenated_x(tuple(x_trains))\n",
    "    train_params = get_parameter_str(['-c', '10', '-t', '0', '-q'])\n",
    "    concatenated_x_svm_model = svm_train(y_train, concatenated_x_train, train_params)\n",
    "    test_params = get_parameter_str(['-q'])\n",
    "    concatenated_x_test = get_concatenated_x(tuple(x_tests))\n",
    "    concatenated_x_results = predict_svm_test(y_test, concatenated_x_test, concatenated_x_svm_model, test_params)\n",
    "    concatenated_x_accuracy = get_accuracy(concatenated_x_results)\n",
    "    print(\"Step 2 Output:\")\n",
    "    print(f\"Test Data Accuracy Using Model Trained From Feature Concatenation: {concatenated_x_accuracy:.2f}%\\n\")\n",
    "\n",
    "\n",
    "# endregion"
   ]
  },
  {
   "cell_type": "code",
   "execution_count": 14,
   "metadata": {
    "execution": {
     "iopub.execute_input": "2021-11-16T17:17:35.091019Z",
     "iopub.status.busy": "2021-11-16T17:17:35.090766Z",
     "iopub.status.idle": "2021-11-16T17:17:37.537831Z",
     "shell.execute_reply": "2021-11-16T17:17:37.537026Z",
     "shell.execute_reply.started": "2021-11-16T17:17:35.090988Z"
    }
   },
   "outputs": [],
   "source": [
    "\"\"\"\n",
    "Load testing & training data from file\n",
    "\"\"\"\n",
    "y_train, x_trains = load_data_from_file(train_data_file_path)\n",
    "y_test, x_tests = load_data_from_file(test_data_file_path)"
   ]
  },
  {
   "cell_type": "code",
   "execution_count": 15,
   "metadata": {
    "execution": {
     "iopub.execute_input": "2021-11-16T17:17:37.539153Z",
     "iopub.status.busy": "2021-11-16T17:17:37.538927Z",
     "iopub.status.idle": "2021-11-16T17:31:17.513865Z",
     "shell.execute_reply": "2021-11-16T17:31:17.513009Z",
     "shell.execute_reply.started": "2021-11-16T17:17:37.539128Z"
    }
   },
   "outputs": [
    {
     "name": "stdout",
     "output_type": "stream",
     "text": [
      "Step0, Case1 Output:\n",
      "X1 Feature Test Data Accuracy: 11.36%\n",
      "X2 Feature Test Data Accuracy: 17.53%\n",
      "X3 Feature Test Data Accuracy: 8.60%\n",
      "\n"
     ]
    }
   ],
   "source": [
    "x_results_s0_c1 = step0_case1(y_train, x_trains, y_test, x_tests)"
   ]
  },
  {
   "cell_type": "code",
   "execution_count": 16,
   "metadata": {
    "execution": {
     "iopub.execute_input": "2021-11-16T17:31:17.515549Z",
     "iopub.status.busy": "2021-11-16T17:31:17.515299Z",
     "iopub.status.idle": "2021-11-16T18:29:02.304322Z",
     "shell.execute_reply": "2021-11-16T18:29:02.303335Z",
     "shell.execute_reply.started": "2021-11-16T17:31:17.515521Z"
    }
   },
   "outputs": [
    {
     "name": "stdout",
     "output_type": "stream",
     "text": [
      "Step0, Case2 Output:\n",
      "X1 Feature Test Data Accuracy: 27.62%\n",
      "X2 Feature Test Data Accuracy: 27.67%\n",
      "X3 Feature Test Data Accuracy: 29.53%\n",
      "\n"
     ]
    }
   ],
   "source": [
    "x_results_s0_c2 = step0_case2(y_train, x_trains, y_test, x_tests)"
   ]
  },
  {
   "cell_type": "code",
   "execution_count": 17,
   "metadata": {
    "execution": {
     "iopub.execute_input": "2021-11-16T18:29:02.306338Z",
     "iopub.status.busy": "2021-11-16T18:29:02.306033Z",
     "iopub.status.idle": "2021-11-16T18:29:02.356524Z",
     "shell.execute_reply": "2021-11-16T18:29:02.355602Z",
     "shell.execute_reply.started": "2021-11-16T18:29:02.306295Z"
    }
   },
   "outputs": [
    {
     "name": "stdout",
     "output_type": "stream",
     "text": [
      "Step 1 Output:\n",
      "Test Data Accuracy using Feature Combination by Fusion of Classifiers: 45.03%\n",
      "\n"
     ]
    }
   ],
   "source": [
    "step1(y_test, x_results_s0_c2)"
   ]
  },
  {
   "cell_type": "code",
   "execution_count": 18,
   "metadata": {
    "execution": {
     "iopub.execute_input": "2021-11-16T18:29:02.358327Z",
     "iopub.status.busy": "2021-11-16T18:29:02.358091Z",
     "iopub.status.idle": "2021-11-16T18:41:02.249214Z",
     "shell.execute_reply": "2021-11-16T18:41:02.248311Z",
     "shell.execute_reply.started": "2021-11-16T18:29:02.358298Z"
    }
   },
   "outputs": [
    {
     "name": "stdout",
     "output_type": "stream",
     "text": [
      "Step 2 Output:\n",
      "Test Data Accuracy Using Model Trained From Feature Concatenation: 39.19%\n",
      "\n"
     ]
    }
   ],
   "source": [
    "step2(y_train, y_test, x_trains, x_tests, x_results_s0_c1)"
   ]
  }
 ],
 "metadata": {
  "kernelspec": {
   "display_name": "Python 3 (ipykernel)",
   "language": "python",
   "name": "python3"
  },
  "language_info": {
   "codemirror_mode": {
    "name": "ipython",
    "version": 3
   },
   "file_extension": ".py",
   "mimetype": "text/x-python",
   "name": "python",
   "nbconvert_exporter": "python",
   "pygments_lexer": "ipython3",
   "version": "3.8.10"
  }
 },
 "nbformat": 4,
 "nbformat_minor": 4
}
